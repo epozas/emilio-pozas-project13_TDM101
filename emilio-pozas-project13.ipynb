{
 "cells": [
  {
   "cell_type": "markdown",
   "id": "be02a957-7133-4d02-818e-fedeb3cecb05",
   "metadata": {},
   "source": [
    "# Project 13 -- Emilio Pozas"
   ]
  },
  {
   "cell_type": "markdown",
   "id": "a1228853-dd19-4ab2-89e0-0394d7d72de3",
   "metadata": {},
   "source": [
    "**Online**:\n",
    "-https://r-coder.com/dot-plot-r/ (Making dot plot).\n",
    "- https://stackoverflow.com/questions/59193324/select-rows-from-a-dataframe-with-a-specific-number-of-characters (Question 3, part b. Getting nchars)"
   ]
  },
  {
   "cell_type": "markdown",
   "id": "6180e742-8e39-4698-98ff-5b00c8cf8ea0",
   "metadata": {},
   "source": [
    "## Question 1"
   ]
  },
  {
   "cell_type": "code",
   "execution_count": 1,
   "id": "49445606-d363-41b4-b479-e319a9a84c01",
   "metadata": {},
   "outputs": [],
   "source": [
    "library(data.table)"
   ]
  },
  {
   "cell_type": "code",
   "execution_count": 2,
   "id": "da6a1fb4-7c0b-4165-9488-17be4134b485",
   "metadata": {},
   "outputs": [],
   "source": [
    "options(jupyter.rich_display = F)\n",
    "options(repr.matrix.max.cols = 30, repr.matrix.max.rows = 200)"
   ]
  },
  {
   "cell_type": "code",
   "execution_count": 4,
   "id": "751368f6-05ad-48b8-b0e9-a150a6924275",
   "metadata": {},
   "outputs": [],
   "source": [
    "orders <- fread(\"/anvil/projects/tdm/data/icecream/combined/products.csv\")"
   ]
  },
  {
   "cell_type": "code",
   "execution_count": 16,
   "id": "096c1104-ba48-454b-9a87-ccbaa94d7f03",
   "metadata": {},
   "outputs": [],
   "source": [
    "aggregate<- aggregate(rating_count ~ brand, data = orders, FUN = sum)"
   ]
  },
  {
   "cell_type": "code",
   "execution_count": 22,
   "id": "ce14b6e9-8435-4bf8-be2a-38d76085fece",
   "metadata": {},
   "outputs": [
    {
     "data": {
      "image/png": "[encoded data removed]",
      "text/plain": [
       "Plot with title \"Total Ratings by Ice Cream Brand\""
      ]
     },
     "metadata": {
      "image/png": {
       "height": 420,
       "width": 420
      }
     },
     "output_type": "display_data"
    }
   ],
   "source": [
    "dotchart(aggregate$rating_count, main=\"Total Ratings by Ice Cream Brand\", labels = aggregate$brand)"
   ]
  },
  {
   "cell_type": "markdown",
   "id": "fc601975-35ed-4680-a4e1-0273ee3cc047",
   "metadata": {},
   "source": [
    "## Question 2"
   ]
  },
  {
   "cell_type": "code",
   "execution_count": 24,
   "id": "a16336a1-1ef0-41e8-bc7c-49387db27497",
   "metadata": {},
   "outputs": [],
   "source": [
    "mybrands <- c(\"bj\", \"breyers\", \"talenti\")\n",
    "myfiles <- paste0(\"/anvil/projects/tdm/data/icecream/\", mybrands, \"/reviews.csv\")\n",
    "bigDF <- do.call(rbind, lapply(myfiles, fread))"
   ]
  },
  {
   "cell_type": "code",
   "execution_count": 25,
   "id": "c90b9430-a90a-4f7a-aff8-910868d79ac5",
   "metadata": {},
   "outputs": [
    {
     "data": {
      "text/plain": [
       "  key  author         date       stars title                                  \n",
       "1 0_bj Ilovebennjerry 2017-04-15 3     Not enough brownies!                   \n",
       "2 0_bj Sweettooth909  2020-01-05 5     I\\342\\200\\231m OBSESSED with this pint!\n",
       "3 0_bj LaTanga71      2018-04-26 3     My favorite...More Caramel Please      \n",
       "4 0_bj chicago220     2018-01-14 5     Obsessed!!!                            \n",
       "5 0_bj Kassidyk       2020-07-24 1     Worst Ice Cream Ever!                  \n",
       "6 0_bj Nikiera        2020-07-23 2     Way Too Salty                          \n",
       "  helpful_yes helpful_no\n",
       "1 10          3         \n",
       "2  3          0         \n",
       "3  5          2         \n",
       "4 24          1         \n",
       "5  1          5         \n",
       "6  3          1         \n",
       "  text                                                                                                                                                                                                                                                                                                                                                                                                                                                                                                                                                                                                                                                                                                                                         \n",
       "1 Super good, don't get me wrong. But I came for the caramel and brownies, not the sweet cream. The packaging made it seem like brownies were packed and bountiful *crying frowny emoji* I'd say the taste of this was amazing, but the ratio of brownie to sweet cream was disappointing. Liked it regardless but probably won't buy again simply because it didn't live up to its promising package. I'll find another one that has a better ratio and wayyy more yummy chewy brownies.\\nOverall, good flavor, texture, idea, and brownies. Not so great caramel/sweet cream/ brownie RATIO. Just add more brownies. Please.                                                                                                                 \n",
       "2 I decided to try it out although I\\342\\200\\231m not a huge caramel fan, and the first buy was ok, didn\\342\\200\\231t like the caramel too much and for some reason that specific pint barely had any brownies! Like there were some on top but from the middle to the bottom? Zilch. Nada. Nothing! It was disappointing. But for some reason, I bought it again and I really do believe it was just that point bcuz the second one was glorious!! I had a big brownie chunk in EVERY bite. Plus the caramel didn\\342\\200\\231t bother me as much and I took a liking to it. Conclusion: I\\342\\200\\231m on my fifth pint, of the week and I\\342\\200\\231m going back to get my daily pint cus I\\342\\200\\231m kinda sick and need some happiness.\n",
       "3 My caramel core begins to disappear about half way through. I only buy this for the caramel core. The first time I purchased this I was not even aware that there were blonde bits in there. You had me a salted caramel core, well this is the fourth pint that I have purchased and the caramel is plentiful at the top then it begins to get sparse about half way down at 3/4s of the way down its gone. It works out in my husbands favor because he doesn't care for the caramel so he gets to finish my pint while having a full pint of his choice. Please please please, its called salted caramel core for a reason. Let the caramel flow through the core. P.S. You could put a little extra in there, I totally would not mind.  \n",
       "4 Why are people complaining about the blonde brownies? If you don\\342\\200\\231t like blonde brownies, get ice cream with fudge brownies! I LOVE the blonde brownies and cannot get enough of them. This ice cream is by far my favorite. I have driven to multiple stores to try and find it... and when I do, I stock up! I\\342\\200\\231ve tried other flavors when I can\\342\\200\\231t find this one, and none of them even come close to making me as happy as this does! I\\342\\200\\231d say sometimes the caramel to brownie ratio is a little off at times (more brownies please!), but I\\342\\200\\231ll still always enjoy it nevertheless!                                                                                                 \n",
       "5 This ice cream is worst ice cream I\\342\\200\\231ve ever tasted. I was beyond excited when I picked it up today and couldn\\342\\200\\231t wait to get home and try it. First the sweet cream ice cream has no flavour. But that\\342\\200\\231s fine I could get past that, but the salted caramel core is what\\342\\200\\231s really wrong. It\\342\\200\\231s disgusting and so salty it\\342\\200\\231s actually inedible. I\\342\\200\\231ve had ice cream before that I have really enjoyed but never to the point where I physically can not stomach it. I love salted caramel but this is just another level. I actually came here to read the reviews and see how others thought of it just in case mine was a bad batch. Never again!                 \n",
       "6 I bought this last night to go with Louisiana Crunch cake because I was craving that salty and sweet flavor. Unfortunately, I was not thrilled with the salted caramel core of this ice cream. Usually, when you have salted caramel, the salt enhances the flavor of the caramel. The salt in this core OVERWHELMED everything, even the cake. It was disappointing to not enjoy my dessert and I doubt I'll be finishing this pint of ice cream, which is a shame because you should never have to throw away ice cream.                                                                                                                                                                                                                   "
      ]
     },
     "metadata": {},
     "output_type": "display_data"
    }
   ],
   "source": [
    "head(bigDF)"
   ]
  },
  {
   "cell_type": "code",
   "execution_count": 27,
   "id": "62b83eb1-3d77-4e1a-8066-0f40f6bfd20e",
   "metadata": {},
   "outputs": [
    {
     "data": {
      "text/plain": [
       "\n",
       "07-2020 06-2020 09-2020 06-2018 05-2020 09-2017 07-2017 01-2019 04-2019 04-2020 \n",
       "   1735     764     728     639     502     501     486     485     476     449 \n",
       "07-2019 05-2019 03-2019 07-2018 06-2019 09-2018 03-2020 02-2020 08-2019 08-2018 \n",
       "    437     427     425     403     401     378     373     366     366     346 \n",
       "08-2017 05-2018 08-2020 01-2020 04-2018 02-2019 11-2018 10-2018 09-2019 03-2018 \n",
       "    343     339     339     338     331     321     317     307     287     260 \n",
       "12-2018 11-2019 10-2017 12-2019 10-2019 06-2017 01-2018 05-2017 02-2018 11-2017 \n",
       "    258     249     238     233     230     219     217     213     187     184 \n",
       "12-2017 04-2017 08-2016 04-2016 01-2017 07-2016 05-2016 03-2017 06-2016 03-2016 \n",
       "    104     101      79      62      56      51      50      49      47      46 \n",
       "09-2016 12-2016 10-2016 02-2017 11-2016 01-2016 11-2015 02-2016 10-2020 12-2015 \n",
       "     46      36      35      32      32      27      22      16      16      10 \n",
       "10-2015 \n",
       "      5 "
      ]
     },
     "metadata": {},
     "output_type": "display_data"
    }
   ],
   "source": [
    "sort(table(format(bigDF$date, \"%m-%Y\")),decreasing= TRUE)"
   ]
  },
  {
   "cell_type": "code",
   "execution_count": 28,
   "id": "a2c81f27-7f7d-434d-b6e2-f21f378db979",
   "metadata": {},
   "outputs": [],
   "source": [
    "aggregate_2 <- aggregate(stars ~ year(date), data = bigDF, mean) "
   ]
  },
  {
   "cell_type": "code",
   "execution_count": 29,
   "id": "a244707f-7dcd-4d56-9127-eeed23984edf",
   "metadata": {},
   "outputs": [
    {
     "data": {
      "text/plain": [
       "  year(date) stars   \n",
       "1 2015       4.783784\n",
       "2 2016       4.193548\n",
       "3 2017       4.090657\n",
       "4 2018       4.101959\n",
       "5 2019       4.243256\n",
       "6 2020       4.359358"
      ]
     },
     "metadata": {},
     "output_type": "display_data"
    }
   ],
   "source": [
    "aggregate_2"
   ]
  },
  {
   "cell_type": "code",
   "execution_count": 34,
   "id": "8946e2d1-839d-48c7-b228-b7cbe7f69b5b",
   "metadata": {},
   "outputs": [
    {
     "data": {
      "image/png": "[encoded data removed]",
      "text/plain": [
       "Plot with title \"Average Stars per Year\""
      ]
     },
     "metadata": {
      "image/png": {
       "height": 420,
       "width": 420
      }
     },
     "output_type": "display_data"
    }
   ],
   "source": [
    "barplot(height=aggregate_2$stars, names= aggregate_2$year, main= \"Average Stars per Year\")"
   ]
  },
  {
   "cell_type": "markdown",
   "id": "8e586edd-ff26-4ce2-8f6b-2424b26f2929",
   "metadata": {},
   "source": [
    "## Question 3"
   ]
  },
  {
   "cell_type": "code",
   "execution_count": 35,
   "id": "bbe0f40d-9655-4653-9ca8-886bdb61cb91",
   "metadata": {},
   "outputs": [],
   "source": [
    "aggregate_3 <- aggregate(stars ~ key, data = bigDF, mean) "
   ]
  },
  {
   "cell_type": "code",
   "execution_count": 49,
   "id": "5229b095-75df-4e47-8c9c-a2615c6fd49b",
   "metadata": {},
   "outputs": [],
   "source": [
    "aggregate_3 <- aggregate_3[order(aggregate_3$stars, decreasing = FALSE),]"
   ]
  },
  {
   "cell_type": "code",
   "execution_count": 51,
   "id": "0cbb2657-a5eb-4efe-a595-535dab814db4",
   "metadata": {},
   "outputs": [
    {
     "data": {
      "text/plain": [
       "    key        stars   \n",
       "127 49_breyers 1.191011\n",
       "131 50_bj      1.831325\n",
       "134 51_breyers 2.423077\n",
       "157 66_breyers 2.483871\n",
       "95  38_breyers 2.621622\n",
       "171 9_talenti  2.759615"
      ]
     },
     "metadata": {},
     "output_type": "display_data"
    }
   ],
   "source": [
    "head(aggregate_3)"
   ]
  },
  {
   "cell_type": "code",
   "execution_count": 52,
   "id": "11c7e399-36a2-4068-ab1f-472f2b9f8ab2",
   "metadata": {},
   "outputs": [
    {
     "data": {
      "text/plain": [
       "  key        author      date       stars title                     helpful_yes\n",
       "1 44_talenti TwirlyGirly 2019-08-28 1     Good idea; poor execution 2          \n",
       "  helpful_no\n",
       "1 8         \n",
       "  text                                                                                                                                                                                                                                                                                                                                                                                                                                                                                                                                                                                                                                                                                                                                                                                                                                                                                                                                                                                                                                                                                                                                                                                                                                                                                                                                                                                                                                                                                                                                                                                                                                                                                                                                                                                                                                                                                                                                                                                                                                                                                                                                                                                                                                                                                                                                                                                                                                                                                                                                                                                                                                                        \n",
       "1 First, why is it up until a few months ago I was always able to open jars of Talenti, but now I can't? I have to ask a neighbor to come over to open every. single. jar..\\nI was excited to hear about the new Talenti Layers. But when I finally saw them in a store, I realized there is no way to *serve* the product.\\n\\nThere were a couple of customers reaching bfor jars as I mused on this, and so I asked them; \"\"How in the world do you scoop this into a dish to get a bit of each layer?\"\" They both replied \"\"You can't.\"\" Then one of the women explained the only way to eat them is straight out of the jar.\\nKnowing that ice cream/gelato that's refrozen after being partially melted develops ice crystals and becomes grainy, I asked about their experience with that issue. Both admitted they avoid it by eating the entire jar in one sitting.\\nWell, I can't eat an entire jar of Talenti in one sitting. But I bought a jar of the Vanilla Fudge Cookie anyway. That night, I got a spoon and used it to spoon through the jar vertically to get a taste of each layer. I ate about 1/3 of the jar that night, then screwed the top back on and put it back in the freezer.\\nThree days later, I decided to have a bit more - and as I had predicted, ice crystals had formed and the previously creamy gelato layers were grainy. Tasted more like ice milk.\\nThe idea for a layered product was a good one, but a container that would allow portions to be scooped out would have been better. Or, perhaps selling the Layers in 3-pack/single serving jars.\\nFor this reason, I won't be purchasing Talenti Layers again.\\nI'm also not sure creating a product that practically requires consumers choose between eating an entire 3 serving, 930 calorie jar in one sitting OR wasting 2/3 of the jar is socially responsible. 2/3 of adults and 1/3 of children in America are overweight, obese, or morbidly obese.\\nThe two women I was chatting with in the store who admitted to eating the entire jar in one sitting?\\nBoth clinically obese.\\nWe're so glad to hear how much you love our Gelatos, even though our new Talenti Layers Vanilla Fudge Cookie didn't quite meet your expectations, and that you had some trouble with those lids. We create our packaging with consumer convenience in mind, and we've forwarded your feedback to the appropriate staff. We'd love to gather some additional details regarding what happened, and to try to help you with those lids - please feel free to reach out to us directly via email at consumer.services@unilever.com so we can further assist you. Thanks!"
      ]
     },
     "metadata": {},
     "output_type": "display_data"
    }
   ],
   "source": [
    "bigDF[nchar(as.character(bigDF$text))>= 2500,]"
   ]
  },
  {
   "cell_type": "markdown",
   "id": "47c6229f-35f7-400c-8366-c442baa5cf47",
   "metadata": {},
   "source": [
    "Markdown notes and sentences and analysis written here."
   ]
  },
  {
   "cell_type": "markdown",
   "id": "da22f29c-d245-4d2b-9fc1-ca14cb6087d9",
   "metadata": {},
   "source": [
    "## Question 4"
   ]
  },
  {
   "cell_type": "code",
   "execution_count": 53,
   "id": "8cffc767-d1c8-4d64-b7dc-f0d2ee8a80d1",
   "metadata": {},
   "outputs": [
    {
     "data": {
      "text/plain": [
       "\n",
       "                    Anonymous       FuzzyGut     ChrisColby Phish Food Fan \n",
       "           366            177             43             12             11 \n",
       "       Michael \n",
       "             8 "
      ]
     },
     "metadata": {},
     "output_type": "display_data"
    }
   ],
   "source": [
    "head(sort(table(bigDF$author), decreasing = TRUE))"
   ]
  },
  {
   "cell_type": "code",
   "execution_count": 62,
   "id": "5cb2fe09-96c3-4853-8513-472085c6388f",
   "metadata": {},
   "outputs": [],
   "source": [
    "badReview <- subset(bigDF, author== \"FuzzyGut\" & stars == 1)"
   ]
  },
  {
   "cell_type": "code",
   "execution_count": 63,
   "id": "8be49918-1b5a-4585-8c3e-4cda240c5489",
   "metadata": {},
   "outputs": [
    {
     "data": {
      "text/plain": [
       "[1] \"So this is the second pint of a peanut butter focused flavor (the first being peanut buttah core) where the swirls are rock hard and jammed in the middle of the pint! I don\\342\\200\\231t get it. I have had countless Ben and Jerry\\342\\200\\231s pints and most have been perfect but I have to admit this is really starting to bother me! It isn\\342\\200\\231t supposed to be this way. I don\\342\\200\\231t to stop exploring new flavors but I feel like maybe I should just stick to my tried-and-true favorites. I\\342\\200\\231m sorry to be a downer but I\\342\\200\\231m really not happy that 2 out of 2 peanut butter pints had inedible swirls and cores! I usually give gushing, glowing reviews on here and I\\342\\200\\231m not a hard to please jerk. I just want ice cream I can eat.\""
      ]
     },
     "metadata": {},
     "output_type": "display_data"
    }
   ],
   "source": [
    "badReview$text"
   ]
  },
  {
   "cell_type": "markdown",
   "id": "f76442d6-d02e-4f26-b9d6-c3183e1d6929",
   "metadata": {},
   "source": [
    "## Pledge\n",
    "\n",
    "By submitting this work I hereby pledge that this is my own, personal work. I've acknowledged in the designated place at the top of this file all sources that I used to complete said work, including but not limited to: online resources, books, and electronic communications. I've noted all collaboration with fellow students and/or TA's. I did not copy or plagiarize another's work.\n",
    "\n",
    "> As a Boilermaker pursuing academic excellence, I pledge to be honest and true in all that I do. Accountable together – We are Purdue."
   ]
  }
 ],
 "metadata": {
  "kernelspec": {
   "display_name": "seminar-r",
   "language": "R",
   "name": "seminar-r"
  },
  "language_info": {
   "codemirror_mode": "r",
   "file_extension": ".r",
   "mimetype": "text/x-r-source",
   "name": "R",
   "pygments_lexer": "r",
   "version": "4.3.1"
  }
 },
 "nbformat": 4,
 "nbformat_minor": 5
}
